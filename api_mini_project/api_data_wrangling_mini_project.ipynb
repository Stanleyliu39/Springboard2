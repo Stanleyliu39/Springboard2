{
 "cells": [
  {
   "cell_type": "markdown",
   "metadata": {},
   "source": [
    "This exercise will require you to pull some data from https://data.nasdaq.com/ (formerly Quandl API)."
   ]
  },
  {
   "cell_type": "markdown",
   "metadata": {},
   "source": [
    "As a first step, you will need to register a free account on the https://data.nasdaq.com/ website."
   ]
  },
  {
   "cell_type": "markdown",
   "metadata": {},
   "source": [
    "After you register, you will be provided with a unique API key, that you should store:\n",
    "\n",
    "*Note*: Use a `.env` file and put your key in there and `python-dotenv` to access it in this notebook. \n",
    "\n",
    "The code below uses a key that was used when generating this project but has since been deleted. Never submit your keys to source control. There is a `.env-example` file in this repository to illusrtate what you need. Copy that to a file called `.env` and use your own api key in that `.env` file. Make sure you also have a `.gitignore` file with a line for `.env` added to it. \n",
    "\n",
    "The standard Python gitignore is [here](https://github.com/github/gitignore/blob/master/Python.gitignore) you can just copy that. "
   ]
  },
  {
   "cell_type": "code",
   "execution_count": 13,
   "metadata": {},
   "outputs": [
    {
     "name": "stdout",
     "output_type": "stream",
     "text": [
      "your_actual_api_key\n"
     ]
    }
   ],
   "source": [
    "# get api key from your .env file\n",
    "import os\n",
    "from dotenv import load_dotenv\n",
    "\n",
    "load_dotenv()\n",
    "API_KEY = os.getenv('NASDAQ_API_KEY')\n",
    "\n",
    "print(API_KEY)"
   ]
  },
  {
   "cell_type": "code",
   "execution_count": 14,
   "metadata": {
    "scrolled": true
   },
   "outputs": [
    {
     "name": "stdout",
     "output_type": "stream",
     "text": [
      "API Key: your_actual_api_key\n"
     ]
    }
   ],
   "source": [
    "import os\n",
    "from dotenv import load_dotenv\n",
    "\n",
    "# Load environment variables from .env file\n",
    "load_dotenv()\n",
    "\n",
    "# Get the API key from the environment variables\n",
    "api_key = os.getenv('NASDAQ_API_KEY')\n",
    "\n",
    "# Check if the API key is present\n",
    "if api_key is not None:\n",
    "    print(\"API Key:\", api_key)\n",
    "else:\n",
    "    print(\"API Key not found. Please check your .env file.\")"
   ]
  },
  {
   "cell_type": "code",
   "execution_count": 15,
   "metadata": {},
   "outputs": [
    {
     "name": "stdout",
     "output_type": "stream",
     "text": [
      "environ({'TERM_PROGRAM': 'Apple_Terminal', 'SHELL': '/bin/zsh', 'TERM': 'xterm-color', 'TMPDIR': '/var/folders/85/2qx6n7jn4xj0b6h44jnzkhl80000gp/T/', 'CONDA_SHLVL': '1', 'CONDA_PROMPT_MODIFIER': '(base) ', 'TERM_PROGRAM_VERSION': '447', 'TERM_SESSION_ID': '75BD18B9-E692-4FFF-89FF-9943C904CEF0', 'USER': 'stanley.liu', 'CONDA_EXE': '/Users/stanley.liu/anaconda3/bin/conda', 'SSH_AUTH_SOCK': '/private/tmp/com.apple.launchd.Ms2frefFkX/Listeners', '_CE_CONDA': '', 'PATH': '/Users/stanley.liu/anaconda3/bin:/Users/stanley.liu/anaconda3/condabin:/usr/local/bin:/System/Cryptexes/App/usr/bin:/usr/bin:/bin:/usr/sbin:/sbin:/Library/Apple/usr/bin:/var/run/com.apple.security.cryptexd/codex.system/bootstrap/usr/local/bin:/var/run/com.apple.security.cryptexd/codex.system/bootstrap/usr/bin:/var/run/com.apple.security.cryptexd/codex.system/bootstrap/usr/appleinternal/bin', 'LaunchInstanceID': 'E11B2E05-3157-435E-B6B3-6638765FDE30', 'CONDA_PREFIX': '/Users/stanley.liu/anaconda3', '__CFBundleIdentifier': 'com.apple.Terminal', 'PWD': '/Users/stanley.liu', 'LANG': 'en_US.UTF-8', 'XPC_FLAGS': '0x0', '_CE_M': '', 'XPC_SERVICE_NAME': '0', 'SHLVL': '2', 'HOME': '/Users/stanley.liu', 'CONDA_PYTHON_EXE': '/Users/stanley.liu/anaconda3/bin/python', 'LOGNAME': 'stanley.liu', 'CONDA_DEFAULT_ENV': 'base', 'SECURITYSESSIONID': '186b5', '_': '/Users/stanley.liu/anaconda3/bin/jupyter-notebook', 'PYDEVD_USE_FRAME_EVAL': 'NO', 'JPY_PARENT_PID': '36732', 'CLICOLOR': '1', 'FORCE_COLOR': '1', 'CLICOLOR_FORCE': '1', 'PAGER': 'cat', 'GIT_PAGER': 'cat', 'MPLBACKEND': 'module://matplotlib_inline.backend_inline', 'NASDAQ_API_KEY': 'your_actual_api_key'})\n",
      "API Key: your_actual_api_key\n",
      "API Key: your_actual_api_key\n"
     ]
    }
   ],
   "source": [
    "import os\n",
    "from dotenv import load_dotenv\n",
    "\n",
    "# Load environment variables from .env file\n",
    "load_dotenv()\n",
    "\n",
    "# Print the entire environment to check if variables are loaded\n",
    "print(os.environ)\n",
    "\n",
    "# Get the API key from the environment variables\n",
    "api_key = os.getenv('NASDAQ_API_KEY')\n",
    "\n",
    "# Print the API key to check if it's retrieved\n",
    "print(\"API Key:\", api_key)\n",
    "\n",
    "# Check if the API key is present\n",
    "if api_key is not None:\n",
    "    print(\"API Key:\", api_key)\n",
    "else:\n",
    "    print(\"API Key not found. Please check your .env file.\")"
   ]
  },
  {
   "cell_type": "code",
   "execution_count": 16,
   "metadata": {},
   "outputs": [
    {
     "name": "stdout",
     "output_type": "stream",
     "text": [
      "API Key: your_actual_api_key\n"
     ]
    }
   ],
   "source": [
    "import os\n",
    "\n",
    "# Manually set an environment variable\n",
    "os.environ['NASDAQ_API_KEY'] = 'your_actual_api_key'\n",
    "\n",
    "# Get the API key from the environment variables\n",
    "api_key = os.getenv('NASDAQ_API_KEY')\n",
    "\n",
    "# Print the API key to check if it's retrieved\n",
    "print(\"API Key:\", api_key)"
   ]
  },
  {
   "cell_type": "markdown",
   "metadata": {},
   "source": [
    "Nasdaq Data has a large number of data sources, but, unfortunately, most of them require a Premium subscription. Still, there are also a good number of free datasets."
   ]
  },
  {
   "cell_type": "code",
   "execution_count": 17,
   "metadata": {},
   "outputs": [
    {
     "name": "stdout",
     "output_type": "stream",
     "text": [
      "Loaded dotenv files: False\n"
     ]
    }
   ],
   "source": [
    "from dotenv import load_dotenv\n",
    "\n",
    "# Load environment variables from .env file\n",
    "loaded_dotenv_files = load_dotenv()\n",
    "\n",
    "# Print the loaded dotenv files\n",
    "print(\"Loaded dotenv files:\", loaded_dotenv_files)"
   ]
  },
  {
   "cell_type": "code",
   "execution_count": 18,
   "metadata": {},
   "outputs": [
    {
     "name": "stdout",
     "output_type": "stream",
     "text": [
      "API Key: your_actual_api_key\n"
     ]
    }
   ],
   "source": [
    "from dotenv import load_dotenv\n",
    "import os\n",
    "\n",
    "# Explicitly specify the path to the .env file\n",
    "load_dotenv('/Users/stanley.liu/Desktop/Springboard2/dsc/Unit 7 - Data Wrangling/7.2 - Data Collection/7.2.5 - API Mini Project/.env')\n",
    "\n",
    "# Get the API key from the environment variables\n",
    "api_key = os.getenv('NASDAQ_API_KEY')\n",
    "\n",
    "# Print the API key to check if it's retrieved\n",
    "print(\"API Key:\", api_key)"
   ]
  },
  {
   "cell_type": "code",
   "execution_count": 19,
   "metadata": {},
   "outputs": [
    {
     "name": "stdout",
     "output_type": "stream",
     "text": [
      "Loaded dotenv files: False\n"
     ]
    }
   ],
   "source": [
    "from dotenv import load_dotenv\n",
    "\n",
    "# Load environment variables from .env file\n",
    "loaded_dotenv_files = load_dotenv()\n",
    "\n",
    "# Print the loaded dotenv files\n",
    "print(\"Loaded dotenv files:\", loaded_dotenv_files)"
   ]
  },
  {
   "cell_type": "code",
   "execution_count": 20,
   "metadata": {},
   "outputs": [
    {
     "name": "stdout",
     "output_type": "stream",
     "text": [
      "Current Working Directory: /Users/stanley.liu/Desktop/Springboard2/dsc/Unit 7 - Data Wrangling/7.2 - Data Collection/7.2.5 - API Mini Project\n"
     ]
    }
   ],
   "source": [
    "print(\"Current Working Directory:\", os.getcwd())"
   ]
  },
  {
   "cell_type": "markdown",
   "metadata": {},
   "source": [
    "For this mini project, we will focus on equities data from the Frankfurt Stock Exhange (FSE), which is available for free. We'll try and analyze the stock prices of a company called Carl Zeiss Meditec, which manufactures tools for eye examinations, as well as medical lasers for laser eye surgery: https://www.zeiss.com/meditec/int/home.html. The company is listed under the stock ticker AFX_X."
   ]
  },
  {
   "cell_type": "markdown",
   "metadata": {},
   "source": [
    "You can find the detailed Nasdaq Data API instructions here: https://docs.data.nasdaq.com/docs/in-depth-usage"
   ]
  },
  {
   "cell_type": "markdown",
   "metadata": {},
   "source": [
    "While there is a dedicated Python package for connecting to the Nasdaq API, we would prefer that you use the *requests* package, which can be easily downloaded using *pip* or *conda*. You can find the documentation for the package here: http://docs.python-requests.org/en/master/ "
   ]
  },
  {
   "cell_type": "markdown",
   "metadata": {},
   "source": [
    "Finally, apart from the *requests* package, you are encouraged to not use any third party Python packages, such as *pandas*, and instead focus on what's available in the Python Standard Library (the *collections* module might come in handy: https://pymotw.com/3/collections/).\n",
    "Also, since you won't have access to DataFrames, you are encouraged to us Python's native data structures - preferably dictionaries, though some questions can also be answered using lists.\n",
    "You can read more on these data structures here: https://docs.python.org/3/tutorial/datastructures.html"
   ]
  },
  {
   "cell_type": "markdown",
   "metadata": {},
   "source": [
    "Keep in mind that the JSON responses you will be getting from the API map almost one-to-one to Python's dictionaries. Unfortunately, they can be very nested, so make sure you read up on indexing dictionaries in the documentation provided above."
   ]
  },
  {
   "cell_type": "code",
   "execution_count": 22,
   "metadata": {},
   "outputs": [],
   "source": [
    "# First, import the relevant modules\n",
    "\n",
    "import requests\n",
    "import json"
   ]
  },
  {
   "cell_type": "markdown",
   "metadata": {},
   "source": [
    "Note: API's can change a bit with each version, for this exercise it is reccomended to use the nasdaq api at `https://data.nasdaq.com/api/v3/`. This is the same api as what used to be quandl so `https://www.quandl.com/api/v3/` should work too.\n",
    "\n",
    "Hint: We are looking for the `AFX_X` data on the `datasets/FSE/` dataset."
   ]
  },
  {
   "cell_type": "code",
   "execution_count": 23,
   "metadata": {},
   "outputs": [],
   "source": [
    "# Now, call the Nasdaq API and pull out a small sample of the data (only one day) to get a glimpse\n",
    "# into the JSON structure that will be returned\n",
    "params = dict(key=API_KEY,start_date='2017-07-27',end_date='2017-07-27')\n",
    "url ='https://www.quandl.com/api/v3/datasets/FSE/AFX_X'\n",
    "res = requests.get(url,params)"
   ]
  },
  {
   "cell_type": "code",
   "execution_count": 24,
   "metadata": {},
   "outputs": [
    {
     "name": "stdout",
     "output_type": "stream",
     "text": [
      "{\"dataset\":{\"id\":10095370,\"dataset_code\":\"AFX_X\",\"database_code\":\"FSE\",\"name\":\"Carl Zeiss Meditec (AFX_X)\",\"description\":\"Stock Prices for Carl Zeiss Meditec (2020-11-02) from the Frankfurt Stock Exchange.\\u003cbr\\u003e\\u003cbr\\u003eTrading System: Xetra\\u003cbr\\u003e\\u003cbr\\u003eISIN: DE0005313704\",\"refreshed_at\":\"2020-12-01T14:48:09.907Z\",\"newest_available_date\":\"2020-12-01\",\"oldest_available_date\":\"2000-06-07\",\"column_names\":[\"Date\",\"Open\",\"High\",\"Low\",\"Close\",\"Change\",\"Traded Volume\",\"Turnover\",\"Last Price of the Day\",\"Daily Traded Units\",\"Daily Turnover\"],\"frequency\":\"daily\",\"type\":\"Time Series\",\"premium\":false,\"limit\":null,\"transform\":null,\"column_index\":null,\"start_date\":\"2017-07-27\",\"end_date\":\"2017-07-27\",\"data\":[[\"2017-07-27\",45.16,45.45,45.15,45.25,null,50557.0,2290284.0,null,null,null]],\"collapse\":null,\"order\":null,\"database_id\":6129}}\n"
     ]
    }
   ],
   "source": [
    "# Inspect the JSON structure of the object you created, and take note of how nested it is,\n",
    "# as well as the overall structure\n",
    "\n",
    "print(res.text)"
   ]
  },
  {
   "cell_type": "markdown",
   "metadata": {},
   "source": [
    "These are your tasks for this mini project:\n",
    "\n",
    "1. Collect data from the Franfurt Stock Exchange, for the ticker AFX_X, for the whole year 2017 (keep in mind that the date format is YYYY-MM-DD).\n",
    "2. Convert the returned JSON object into a Python dictionary.\n",
    "3. Calculate what the highest and lowest opening prices were for the stock in this period.\n",
    "4. What was the largest change in any one day (based on High and Low price)?\n",
    "5. What was the largest change between any two days (based on Closing Price)?\n",
    "6. What was the average daily trading volume during this year?\n",
    "7. (Optional) What was the median trading volume during this year. (Note: you may need to implement your own function for calculating the median.)"
   ]
  },
  {
   "cell_type": "code",
   "execution_count": 28,
   "metadata": {},
   "outputs": [],
   "source": [
    "\n",
    "params = dict(key=API_KEY,start_date='2017-01-01',end_date='2017-12-31')\n",
    "url ='https://www.quandl.com/api/v3/datasets/FSE/AFX_X?start_date=2017-01-01&end_date=2017-12-31&api_key=tzyzx8z6ZWK_z8H8dEtK'\n",
    "res = requests.get(url,params)\n",
    "#converting json to dict\n",
    "dic_r = res.json()\n",
    "data = dic_r['dataset']['data']#getting the data\n",
    "list_len = len(data)#getting the number of sub lists"
   ]
  },
  {
   "cell_type": "code",
   "execution_count": 29,
   "metadata": {},
   "outputs": [
    {
     "name": "stdout",
     "output_type": "stream",
     "text": [
      "The lowest open is 34.0\n",
      "The highest open is 53.11\n"
     ]
    }
   ],
   "source": [
    "#4)\n",
    "open_index = dic_r['dataset']['column_names'].index('Open')\n",
    "open_dat = []\n",
    "for i in range(0,list_len):\n",
    "    if data[i][open_index] is not None:\n",
    "        open_dat.append(data[i][open_index])\n",
    "print(\"The lowest open is \"+str(sorted(open_dat, key = lambda x:float(x))[0]))\n",
    "print(\"The highest open is \"+str(sorted(open_dat, key = lambda x:float(x),reverse=True)[0]))\n"
   ]
  },
  {
   "cell_type": "code",
   "execution_count": 30,
   "metadata": {},
   "outputs": [
    {
     "name": "stdout",
     "output_type": "stream",
     "text": [
      "The largest change was 2.56\n"
     ]
    }
   ],
   "source": [
    "#5. Determine change between two days on Closing Price\n",
    "params5 = dict(key=API_KEY,start_date='2017-01-01',end_date='2017-12-31',transform='diff')\n",
    "url5 ='https://www.quandl.com/api/v3/datasets/FSE/AFX_X?start_date=2017-01-01&end_date=2017-12-31&transform=diff'\n",
    "res5 = requests.get(url5,params5)\n",
    "dic_r5 =res5.json()\n",
    "close_index = dic_r5['dataset']['column_names'].index('Close')\n",
    "data5 = dic_r5['dataset']['data']\n",
    "close_dat = []\n",
    "list_len = len(data5)\n",
    "for i in range(0,list_len):\n",
    "    if data5[i][close_index] is not None:\n",
    "        close_dat.append(abs(data5[i][close_index]))\n",
    "print(\"The largest change was \"+str(sorted(close_dat, key = lambda x:float(x),reverse=True)[0]))\n"
   ]
  },
  {
   "cell_type": "code",
   "execution_count": 31,
   "metadata": {},
   "outputs": [
    {
     "name": "stdout",
     "output_type": "stream",
     "text": [
      "The average daily trading volume is 89299.23622047243\n"
     ]
    }
   ],
   "source": [
    "#6. Determine the average daily trading values\n",
    "tr_index = dic_r['dataset']['column_names'].index('Traded Volume')\n",
    "tr_dat = []\n",
    "for i in range(0,list_len):\n",
    "    if data[i][tr_index] is not None:\n",
    "        tr_dat.append(data[i][tr_index])\n",
    "print(\"The average daily trading volume is \"+str(sum(tr_dat) / len(tr_dat)))\n"
   ]
  },
  {
   "cell_type": "code",
   "execution_count": 36,
   "metadata": {},
   "outputs": [
    {
     "name": "stdout",
     "output_type": "stream",
     "text": [
      "The median trading volume is 76443.0\n"
     ]
    }
   ],
   "source": [
    "#7. Determine the median daily trading values\n",
    "def med(dat):\n",
    "    dat = sorted(dat, key = lambda x:float(x))\n",
    "    med_spot = (len(dat)+1)/2 -1\n",
    "    if isinstance(med_spot, int)==False:\n",
    "        med1 = dat[int(med_spot-0.5)]\n",
    "        med2 = dat[int(med_spot+0.5)]\n",
    "        return (med1+med2)/2\n",
    "    else:\n",
    "        return dat[med_spot]\n",
    "\n",
    "print(\"The median trading volume is \"+str(med(tr_dat)))\n"
   ]
  },
  {
   "cell_type": "code",
   "execution_count": null,
   "metadata": {},
   "outputs": [],
   "source": []
  }
 ],
 "metadata": {
  "interpreter": {
   "hash": "7635eb1b9d0fe97add78a7368b6b431c09bb8ad5c42e437d64abdd99821c31ae"
  },
  "kernelspec": {
   "display_name": "Python 3 (ipykernel)",
   "language": "python",
   "name": "python3"
  },
  "language_info": {
   "codemirror_mode": {
    "name": "ipython",
    "version": 3
   },
   "file_extension": ".py",
   "mimetype": "text/x-python",
   "name": "python",
   "nbconvert_exporter": "python",
   "pygments_lexer": "ipython3",
   "version": "3.10.9"
  }
 },
 "nbformat": 4,
 "nbformat_minor": 4
}
